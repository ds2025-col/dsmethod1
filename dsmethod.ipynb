{
  "nbformat": 4,
  "nbformat_minor": 0,
  "metadata": {
    "colab": {
      "provenance": [],
      "authorship_tag": "ABX9TyP60YxEzROr301/LXvdfEXo",
      "include_colab_link": true
    },
    "kernelspec": {
      "name": "python3",
      "display_name": "Python 3"
    },
    "language_info": {
      "name": "python"
    }
  },
  "cells": [
    {
      "cell_type": "markdown",
      "metadata": {
        "id": "view-in-github",
        "colab_type": "text"
      },
      "source": [
        "<a href=\"https://colab.research.google.com/github/ds2025-col/dsmethod1/blob/main/dsmethod.ipynb\" target=\"_parent\"><img src=\"https://colab.research.google.com/assets/colab-badge.svg\" alt=\"Open In Colab\"/></a>"
      ]
    },
    {
      "cell_type": "code",
      "execution_count": null,
      "metadata": {
        "colab": {
          "base_uri": "https://localhost:8080/"
        },
        "id": "MroFcyyGlxS9",
        "outputId": "0d23f420-6cfe-42d2-f774-4d8458531f60"
      },
      "outputs": [
        {
          "output_type": "stream",
          "name": "stdout",
          "text": [
            "(1, 2, 'ann')\n",
            "(1, 2)\n"
          ]
        }
      ],
      "source": [
        "a=(1,2,'ann')\n",
        "print(a)\n",
        "print(a[-3:-1])"
      ]
    },
    {
      "cell_type": "code",
      "source": [
        "a=(1,2,4)\n",
        "del a  #delete\n"
      ],
      "metadata": {
        "id": "d5tiGWPym11r"
      },
      "execution_count": null,
      "outputs": []
    },
    {
      "cell_type": "code",
      "source": [],
      "metadata": {
        "id": "HpncTEn7om7D"
      },
      "execution_count": null,
      "outputs": []
    },
    {
      "cell_type": "markdown",
      "source": [
        "**SET**\n"
      ],
      "metadata": {
        "id": "BQp2sJjeo7FM"
      }
    },
    {
      "cell_type": "code",
      "source": [
        "a={1,2,3,4}\n",
        "b={1,5,9,8}\n",
        "print(a.union(b))\n",
        "print(a.intersection(b))"
      ],
      "metadata": {
        "colab": {
          "base_uri": "https://localhost:8080/"
        },
        "id": "z009eQQSpLQd",
        "outputId": "e696abc8-c8ed-45d5-a0d8-4123a3e0b5c3"
      },
      "execution_count": null,
      "outputs": [
        {
          "output_type": "stream",
          "name": "stdout",
          "text": [
            "{1, 2, 3, 4, 5, 8, 9}\n",
            "{1}\n"
          ]
        }
      ]
    },
    {
      "cell_type": "code",
      "source": [
        "a.difference(b)\n"
      ],
      "metadata": {
        "colab": {
          "base_uri": "https://localhost:8080/"
        },
        "id": "vsWjDvdprukF",
        "outputId": "09f64acb-1f5d-41a3-a09c-010bfb4a2c09"
      },
      "execution_count": null,
      "outputs": [
        {
          "output_type": "execute_result",
          "data": {
            "text/plain": [
              "{2, 3, 4}"
            ]
          },
          "metadata": {},
          "execution_count": 13
        }
      ]
    },
    {
      "cell_type": "code",
      "source": [
        "a.update(b)\n",
        "print(a)"
      ],
      "metadata": {
        "colab": {
          "base_uri": "https://localhost:8080/"
        },
        "id": "5XeJM0rZrNch",
        "outputId": "30e34d94-e522-4670-be9b-88fcf95b6326"
      },
      "execution_count": null,
      "outputs": [
        {
          "output_type": "stream",
          "name": "stdout",
          "text": [
            "{1, 2, 3, 4, 5, 8, 9}\n"
          ]
        }
      ]
    },
    {
      "cell_type": "code",
      "source": [
        "a.add(7)\n",
        "print(a)"
      ],
      "metadata": {
        "colab": {
          "base_uri": "https://localhost:8080/"
        },
        "id": "5elcK51JsL3w",
        "outputId": "318f2f6c-1bbc-4cfa-f434-403d5b7eac2b"
      },
      "execution_count": null,
      "outputs": [
        {
          "output_type": "stream",
          "name": "stdout",
          "text": [
            "{1, 2, 3, 4, 5, 7, 8, 9}\n"
          ]
        }
      ]
    },
    {
      "cell_type": "code",
      "source": [
        "a.issubset(b)\n",
        "print(a.issubset(b))"
      ],
      "metadata": {
        "colab": {
          "base_uri": "https://localhost:8080/"
        },
        "id": "8onA_zarsyZQ",
        "outputId": "de7a501c-5058-4336-b4c6-c45b006ad11b"
      },
      "execution_count": null,
      "outputs": [
        {
          "output_type": "stream",
          "name": "stdout",
          "text": [
            "False\n"
          ]
        }
      ]
    },
    {
      "cell_type": "code",
      "source": [
        "a.issuperset(b)\n",
        "print(a.issuperset(b))"
      ],
      "metadata": {
        "colab": {
          "base_uri": "https://localhost:8080/"
        },
        "id": "P-hCrCRxtbJ-",
        "outputId": "2c4ca811-46ef-400b-a944-55bf44ebe958"
      },
      "execution_count": null,
      "outputs": [
        {
          "output_type": "stream",
          "name": "stdout",
          "text": [
            "True\n"
          ]
        }
      ]
    },
    {
      "cell_type": "code",
      "source": [
        "a={1,2,3,4}\n",
        "a.remove(4)\n",
        "print(a)\n",
        "print(a.pop())\n",
        "print(a)"
      ],
      "metadata": {
        "colab": {
          "base_uri": "https://localhost:8080/"
        },
        "id": "CB5qQk3auhPi",
        "outputId": "a698596e-cd1c-4531-d511-ed59e4090ee5"
      },
      "execution_count": null,
      "outputs": [
        {
          "output_type": "stream",
          "name": "stdout",
          "text": [
            "{1, 2, 3}\n",
            "1\n",
            "{2, 3}\n"
          ]
        }
      ]
    },
    {
      "cell_type": "markdown",
      "source": [
        "**DICTIONARY**"
      ],
      "metadata": {
        "id": "OWaZBxF-yt_a"
      }
    },
    {
      "cell_type": "code",
      "source": [
        "X={'NAME':'ANN','AGE':12,'PLACE':'PMMNA'}\n",
        "print(X['NAME'])"
      ],
      "metadata": {
        "colab": {
          "base_uri": "https://localhost:8080/"
        },
        "id": "PRUnKOTdy4ym",
        "outputId": "a0910c11-9fca-4f1a-ad84-5590218f0907"
      },
      "execution_count": null,
      "outputs": [
        {
          "output_type": "stream",
          "name": "stdout",
          "text": [
            "ANN\n"
          ]
        }
      ]
    },
    {
      "cell_type": "code",
      "source": [
        "X['NAME']='ANU' #REPLACE\n",
        "print(X)"
      ],
      "metadata": {
        "colab": {
          "base_uri": "https://localhost:8080/"
        },
        "id": "WxNVYYJm3UCY",
        "outputId": "9445bcd7-ae92-4119-91f9-44512fc0f875"
      },
      "execution_count": null,
      "outputs": [
        {
          "output_type": "stream",
          "name": "stdout",
          "text": [
            "{'NAME': 'ANU', 'AGE': 12, 'PLACE': 'PMMNA'}\n"
          ]
        }
      ]
    },
    {
      "cell_type": "code",
      "source": [
        "print(X.get('PLACE'))"
      ],
      "metadata": {
        "colab": {
          "base_uri": "https://localhost:8080/"
        },
        "id": "7jsl4K8R3E6W",
        "outputId": "30832168-4794-4161-e9e6-e9513a4c59ad"
      },
      "execution_count": null,
      "outputs": [
        {
          "output_type": "stream",
          "name": "stdout",
          "text": [
            "PMMNA\n"
          ]
        }
      ]
    },
    {
      "cell_type": "code",
      "source": [
        "Y={'rollno' :20}\n",
        "print(X.update(Y))\n",
        "print(X)"
      ],
      "metadata": {
        "colab": {
          "base_uri": "https://localhost:8080/"
        },
        "id": "O_En-xk15Z8K",
        "outputId": "766972e2-8f0c-4ef6-f509-4cf49efa0966"
      },
      "execution_count": null,
      "outputs": [
        {
          "output_type": "stream",
          "name": "stdout",
          "text": [
            "None\n",
            "{'NAME': 'ANU', 'AGE': 12, 'PLACE': 'PMMNA', 'ANNA': 20, 'KKV': 15, 'rollno': 20}\n"
          ]
        }
      ]
    },
    {
      "cell_type": "code",
      "source": [
        "print(X.keys())"
      ],
      "metadata": {
        "colab": {
          "base_uri": "https://localhost:8080/"
        },
        "id": "E0hNrf2r6mMQ",
        "outputId": "74ae7644-e4bc-430e-bb25-b048cfb1edda"
      },
      "execution_count": null,
      "outputs": [
        {
          "output_type": "stream",
          "name": "stdout",
          "text": [
            "dict_keys(['NAME', 'AGE', 'PLACE', 'ANNA', 'KKV'])\n"
          ]
        }
      ]
    },
    {
      "cell_type": "code",
      "source": [
        "X.values()"
      ],
      "metadata": {
        "colab": {
          "base_uri": "https://localhost:8080/"
        },
        "id": "eeCClUkC64hU",
        "outputId": "4378c676-5701-49c3-fc60-ddfc74405975"
      },
      "execution_count": null,
      "outputs": [
        {
          "output_type": "execute_result",
          "data": {
            "text/plain": [
              "dict_values(['ANU', 12, 'PMMNA', 20, 15])"
            ]
          },
          "metadata": {},
          "execution_count": 41
        }
      ]
    },
    {
      "cell_type": "code",
      "source": [
        "print(X.pop('ANNA'))\n",
        "print(X)\n"
      ],
      "metadata": {
        "colab": {
          "base_uri": "https://localhost:8080/"
        },
        "id": "sjGZDzjO9vhS",
        "outputId": "970de283-6edc-4358-f4e6-121d5932eff1"
      },
      "execution_count": null,
      "outputs": [
        {
          "output_type": "stream",
          "name": "stdout",
          "text": [
            "20\n",
            "{'NAME': 'ANU', 'AGE': 12, 'PLACE': 'PMMNA', 'rollno': 20}\n"
          ]
        }
      ]
    },
    {
      "cell_type": "code",
      "source": [
        "print(X.clear())\n",
        "print(X)"
      ],
      "metadata": {
        "colab": {
          "base_uri": "https://localhost:8080/"
        },
        "id": "UY3IU9pOPcQt",
        "outputId": "c6555c24-ee55-45bd-eb90-d2159f4364f8"
      },
      "execution_count": null,
      "outputs": [
        {
          "output_type": "stream",
          "name": "stdout",
          "text": [
            "None\n",
            "{}\n"
          ]
        }
      ]
    },
    {
      "cell_type": "code",
      "source": [
        "X={'NAME':'ANN','AGE':12,'PLACE':'PMMNA'}\n",
        "print(X.pop('NAME'))\n",
        "print(X)"
      ],
      "metadata": {
        "colab": {
          "base_uri": "https://localhost:8080/"
        },
        "id": "wwOgBkNxRLjU",
        "outputId": "33ad0527-e617-48cf-b3ae-9d43638ddc3b"
      },
      "execution_count": null,
      "outputs": [
        {
          "output_type": "stream",
          "name": "stdout",
          "text": [
            "ANN\n",
            "{'AGE': 12, 'PLACE': 'PMMNA'}\n"
          ]
        }
      ]
    },
    {
      "cell_type": "code",
      "source": [
        "from collections import OrderedDict\n",
        "\n",
        "X = OrderedDict([('AGE', 12), ('PLACE', 'PMMNA')])             # Convert to OrderedDict\n",
        "X.update({'name':'ra'})\n",
        "X.move_to_end('name', last=False)                               # Now move_to_end works\n",
        "print(X)\n"
      ],
      "metadata": {
        "colab": {
          "base_uri": "https://localhost:8080/"
        },
        "id": "tobQTYO9TOF4",
        "outputId": "5de66ea0-d7d8-48f9-84be-879ab5aef692"
      },
      "execution_count": null,
      "outputs": [
        {
          "output_type": "stream",
          "name": "stdout",
          "text": [
            "OrderedDict([('name', 'ra'), ('AGE', 12), ('PLACE', 'PMMNA')])\n"
          ]
        }
      ]
    },
    {
      "cell_type": "code",
      "source": [],
      "metadata": {
        "id": "qqvotpCfTNus"
      },
      "execution_count": null,
      "outputs": []
    },
    {
      "cell_type": "markdown",
      "source": [
        "**string**"
      ],
      "metadata": {
        "id": "WlG-jOPHXDa-"
      }
    },
    {
      "cell_type": "code",
      "source": [
        "a='hallo world'  #string\n",
        "print(a)\n",
        "print(a[2:8])"
      ],
      "metadata": {
        "colab": {
          "base_uri": "https://localhost:8080/"
        },
        "id": "qppqMGHNWXAy",
        "outputId": "df327f20-b99c-4ac6-f24d-099a9cdb1e63"
      },
      "execution_count": null,
      "outputs": [
        {
          "output_type": "stream",
          "name": "stdout",
          "text": [
            "hallo world\n",
            "llo wo\n"
          ]
        }
      ]
    },
    {
      "cell_type": "code",
      "source": [
        "x={'name':'raju','age': 10}\n",
        "y=[]\n",
        "for i in x:\n",
        "  y.append(i)\n",
        "print(y)"
      ],
      "metadata": {
        "colab": {
          "base_uri": "https://localhost:8080/"
        },
        "id": "-fjFp9MZ_BPu",
        "outputId": "c841ccf0-231d-4f19-a10c-74ab2f3ef73c"
      },
      "execution_count": null,
      "outputs": [
        {
          "output_type": "stream",
          "name": "stdout",
          "text": [
            "['name', 'age']\n"
          ]
        }
      ]
    },
    {
      "cell_type": "code",
      "source": [
        "x=[{'name':'raju','salary':10000,'job':'manager'},{'name':'sam','salary':12000,'job':'devloper'},{'name':'ann','salary':15000,'job':'tester'}]\n",
        "for i in x:\n",
        "  if i['salary']>10000:\n",
        "    print(i['name'])\n",
        "  elif  i['job']=='manager':\n",
        "      print(i['name'])"
      ],
      "metadata": {
        "colab": {
          "base_uri": "https://localhost:8080/"
        },
        "id": "kmcXkmk8LzQ_",
        "outputId": "11bedfcd-1f59-4f51-b0f5-57f243b39f02"
      },
      "execution_count": null,
      "outputs": [
        {
          "output_type": "stream",
          "name": "stdout",
          "text": [
            "raju\n",
            "sam\n",
            "ann\n"
          ]
        }
      ]
    },
    {
      "cell_type": "code",
      "source": [
        "n=[]\n",
        "prime=[]\n",
        "composite=[]\n",
        "x=int(input('enter the number'))\n",
        "n.append(x)\n",
        "if x%2==0:\n",
        "  composite.append(x)\n",
        "else:\n",
        "    prime.append(x)\n",
        "print(prime)\n",
        "print(composite)\n",
        "\n"
      ],
      "metadata": {
        "id": "L-mk_4KpPijA"
      },
      "execution_count": null,
      "outputs": []
    },
    {
      "cell_type": "markdown",
      "source": [
        "while loop we can exicute a set of statement as long as the condition is true\n",
        "\n",
        "jumbing statements:-pass,continue,break"
      ],
      "metadata": {
        "id": "ksEK68RPRZyq"
      }
    },
    {
      "cell_type": "code",
      "source": [
        "for i in range(10):\n",
        "  if i==5:\n",
        "    break\n",
        "  print(i)"
      ],
      "metadata": {
        "colab": {
          "base_uri": "https://localhost:8080/"
        },
        "id": "C4eKqBPMSuwm",
        "outputId": "06c7350b-2220-40b3-b2f1-16f995f92863"
      },
      "execution_count": null,
      "outputs": [
        {
          "output_type": "stream",
          "name": "stdout",
          "text": [
            "0\n",
            "1\n",
            "2\n",
            "3\n",
            "4\n"
          ]
        }
      ]
    },
    {
      "cell_type": "code",
      "source": [
        "for i in range(10):\n",
        "  if i==7:\n",
        "    continue\n",
        "  print(i)"
      ],
      "metadata": {
        "colab": {
          "base_uri": "https://localhost:8080/"
        },
        "id": "OMxWfa4lT5cT",
        "outputId": "1e1fe94d-813c-4452-b92e-0b7dbf4ef7d5"
      },
      "execution_count": null,
      "outputs": [
        {
          "output_type": "stream",
          "name": "stdout",
          "text": [
            "0\n",
            "1\n",
            "2\n",
            "3\n",
            "4\n",
            "5\n",
            "6\n",
            "8\n",
            "9\n"
          ]
        }
      ]
    },
    {
      "cell_type": "code",
      "source": [
        "for i in range(5):\n",
        "  pass\n",
        "print('hi')"
      ],
      "metadata": {
        "colab": {
          "base_uri": "https://localhost:8080/"
        },
        "id": "4GkBJmudUcyD",
        "outputId": "6a9a579e-0e0e-4fce-ddc9-b4b39440d40b"
      },
      "execution_count": null,
      "outputs": [
        {
          "output_type": "stream",
          "name": "stdout",
          "text": [
            "hi\n"
          ]
        }
      ]
    },
    {
      "cell_type": "code",
      "source": [
        "while True:\n",
        "  age=int(input('enter your age:'))\n",
        "  if age>60:\n",
        "    print('you are not elogible')\n",
        "  else:\n",
        "      print('you are eligible')\n",
        "\n",
        "  x=input('if you want continue enter yes otherwise no \\n ')\n",
        "  if x=='no':\n",
        "    print('thanks')\n",
        "\n",
        "\n"
      ],
      "metadata": {
        "id": "D8-ooMCeVC07"
      },
      "execution_count": null,
      "outputs": []
    },
    {
      "cell_type": "code",
      "source": [
        "while True:\n",
        "  num=int(input('enter the num'))\n",
        "  if num>=18:\n",
        "    print('your are mature')\n",
        "  else:\n",
        "    print('you are not mature')\n",
        "  break\n"
      ],
      "metadata": {
        "colab": {
          "base_uri": "https://localhost:8080/"
        },
        "id": "vh7ckkA8ZLep",
        "outputId": "1e636c9f-b894-4cdf-ad57-4600d246f55d"
      },
      "execution_count": null,
      "outputs": [
        {
          "output_type": "stream",
          "name": "stdout",
          "text": [
            "enter the num12\n",
            "you are not mature\n"
          ]
        }
      ]
    },
    {
      "cell_type": "code",
      "source": [
        "j=5\n",
        "while j<10:\n",
        "  print(j)\n",
        "  j+=1\n"
      ],
      "metadata": {
        "colab": {
          "base_uri": "https://localhost:8080/"
        },
        "id": "iQ4FK8zwamHe",
        "outputId": "20707983-fe50-4df6-b3e9-27dc4ad59f96"
      },
      "execution_count": null,
      "outputs": [
        {
          "output_type": "stream",
          "name": "stdout",
          "text": [
            "5\n",
            "6\n",
            "7\n",
            "8\n",
            "9\n"
          ]
        }
      ]
    }
  ]
}